{
  "nbformat": 4,
  "nbformat_minor": 0,
  "metadata": {
    "colab": {
      "provenance": [],
      "authorship_tag": "ABX9TyN+o2MkAKqTSOQs0dews+XA",
      "include_colab_link": true
    },
    "kernelspec": {
      "name": "python3",
      "display_name": "Python 3"
    },
    "language_info": {
      "name": "python"
    }
  },
  "cells": [
    {
      "cell_type": "markdown",
      "metadata": {
        "id": "view-in-github",
        "colab_type": "text"
      },
      "source": [
        "<a href=\"https://colab.research.google.com/github/fabiomatricardi/what-the-hell-is-AI/blob/main/What_The_Hell_is_AI.ipynb\" target=\"_parent\"><img src=\"https://colab.research.google.com/assets/colab-badge.svg\" alt=\"Open In Colab\"/></a>"
      ]
    },
    {
      "cell_type": "code",
      "execution_count": 1,
      "metadata": {
        "id": "TRuI-0b1DjGF"
      },
      "outputs": [],
      "source": [
        "%%capture\n",
        "!pip install llama-cpp-python==0.2.56\n",
        "!pip install langchain\n",
        "!pip install tiktoken\n",
        "!pip install sentence_transformers\n",
        "!pip install transformers\n",
        "!pip install rich\n",
        "!wget https://huggingface.co/brittlewis12/h2o-danube-1.8b-chat-GGUF/resolve/main/h2o-danube-1.8b-chat.Q5_K_M.gguf"
      ]
    },
    {
      "cell_type": "code",
      "source": [
        "from tqdm.rich import trange, tqdm\n",
        "from rich.markdown import Markdown\n",
        "import warnings\n",
        "warnings.filterwarnings(action='ignore')\n",
        "import datetime\n",
        "from rich.console import Console\n",
        "console = Console(width=110)"
      ],
      "metadata": {
        "id": "i90milFWKuzz"
      },
      "execution_count": 2,
      "outputs": []
    },
    {
      "cell_type": "code",
      "source": [
        "## Load a llama-cpp-python quantized model\n",
        "from rich.console import Console\n",
        "console = Console(width=110)\n",
        "mp = '/content/h2o-danube-1.8b-chat.Q5_K_M.gguf'\n",
        "from llama_cpp import Llama\n",
        "console.print(\"Loading ✅✅✅✅ h2o-danube-1.8b-chat.Q5_K_M.gguf with LLAMA.CPP...\")\n",
        "llm = Llama(model_path=mp,n_ctx=8192, verbose=False)"
      ],
      "metadata": {
        "colab": {
          "base_uri": "https://localhost:8080/",
          "height": 39
        },
        "id": "5HfaXnS5Khm2",
        "outputId": "0269e581-b6a0-498d-c9e5-2de12c84ee62"
      },
      "execution_count": 20,
      "outputs": [
        {
          "output_type": "display_data",
          "data": {
            "text/plain": [
              "Loading ✅✅✅✅ h2o-danube-\u001b[1;36m1.\u001b[0m8b-chat.Q5_K_M.gguf with LLAMA.CPP\u001b[33m...\u001b[0m\n"
            ],
            "text/html": [
              "<pre style=\"white-space:pre;overflow-x:auto;line-height:normal;font-family:Menlo,'DejaVu Sans Mono',consolas,'Courier New',monospace\">Loading ✅✅✅✅ h2o-danube-<span style=\"color: #008080; text-decoration-color: #008080; font-weight: bold\">1.</span>8b-chat.Q5_K_M.gguf with LLAMA.CPP<span style=\"color: #808000; text-decoration-color: #808000\">...</span>\n",
              "</pre>\n"
            ]
          },
          "metadata": {}
        }
      ]
    },
    {
      "cell_type": "markdown",
      "source": [
        "## Single Question"
      ],
      "metadata": {
        "id": "D717sbAmOkA4"
      }
    },
    {
      "cell_type": "code",
      "source": [
        "prompt = input(\"User: \")\n",
        "messages = [\n",
        "      {\"role\": \"system\", \"content\": \"You are a helpful assistant.\",},\n",
        "      {\"role\": \"user\", \"content\": prompt}\n",
        "  ]\n",
        "start = datetime.datetime.now()\n",
        "result = llm.create_chat_completion(\n",
        "                  messages=messages,\n",
        "                  max_tokens=300,\n",
        "                  stop=[\"</s>\",\"[/INST]\",\"/INST\"],\n",
        "                  temperature = 0.1,\n",
        "                  repeat_penalty = 1.2)\n",
        "delta = datetime.datetime.now() - start\n",
        "console.print(f'[red1 bold]{prompt}')\n",
        "console.print(result[\"choices\"][0][\"message\"][\"content\"][1:])\n",
        "console.print('---')\n",
        "console.print(f'Generated in {delta}')"
      ],
      "metadata": {
        "colab": {
          "base_uri": "https://localhost:8080/",
          "height": 408
        },
        "id": "p53JdHeWLGhW",
        "outputId": "48b9e789-5059-467a-b2ca-83f543df8076"
      },
      "execution_count": 18,
      "outputs": [
        {
          "name": "stdout",
          "output_type": "stream",
          "text": [
            "User: what is Artificial Intelligence?\n"
          ]
        },
        {
          "output_type": "display_data",
          "data": {
            "text/plain": [
              "\u001b[1;38;5;196mwhat is Artificial Intelligence?\u001b[0m\n"
            ],
            "text/html": [
              "<pre style=\"white-space:pre;overflow-x:auto;line-height:normal;font-family:Menlo,'DejaVu Sans Mono',consolas,'Courier New',monospace\"><span style=\"color: #ff0000; text-decoration-color: #ff0000; font-weight: bold\">what is Artificial Intelligence?</span>\n",
              "</pre>\n"
            ]
          },
          "metadata": {}
        },
        {
          "output_type": "display_data",
          "data": {
            "text/plain": [
              "Artificial intelligence \u001b[1m(\u001b[0mAI\u001b[1m)\u001b[0m refers to the ability of machines, systems, or devices to perform tasks that \n",
              "typically require human intelligence, such as learning, problem-solving, and decision-making. AI technology \n",
              "uses algorithms and machine learning techniques to mimic human cognitive abilities and can be used for various\n",
              "purposes, including natural language processing, image and speech recognition, and decision-making in various \n",
              "domains like healthcare, finance, and transportation.\n",
              "\n",
              "In simple terms, AI can be seen as an extension of human capabilities and can help us solve problems more \n",
              "efficiently and effectively by using algorithms and machine learning techniques. It can also be used for \n",
              "entertainment purposes like creating personalized recommendations for movies and music based on our \n",
              "preferences and interests.\n",
              "\n",
              "It's important to note that AI technology has both benefits and risks associated with it. While it can help us\n",
              "improve our lives in many ways, it can also lead to job displacement and concerns about privacy and security. \n",
              "As AI technology continues to advance and become more integrated into our daily lives, it's essential for us \n",
              "to understand its potential impact and work towards ensuring its responsible and ethical use.\n",
              "\n",
              "I hope this helps! Let me know if you have any other questions.\n",
              "\n",
              "Best regards,\n",
              "\u001b[1m[\u001b[0mYour Name\u001b[1m]\u001b[0m\n"
            ],
            "text/html": [
              "<pre style=\"white-space:pre;overflow-x:auto;line-height:normal;font-family:Menlo,'DejaVu Sans Mono',consolas,'Courier New',monospace\">Artificial intelligence <span style=\"font-weight: bold\">(</span>AI<span style=\"font-weight: bold\">)</span> refers to the ability of machines, systems, or devices to perform tasks that \n",
              "typically require human intelligence, such as learning, problem-solving, and decision-making. AI technology \n",
              "uses algorithms and machine learning techniques to mimic human cognitive abilities and can be used for various\n",
              "purposes, including natural language processing, image and speech recognition, and decision-making in various \n",
              "domains like healthcare, finance, and transportation.\n",
              "\n",
              "In simple terms, AI can be seen as an extension of human capabilities and can help us solve problems more \n",
              "efficiently and effectively by using algorithms and machine learning techniques. It can also be used for \n",
              "entertainment purposes like creating personalized recommendations for movies and music based on our \n",
              "preferences and interests.\n",
              "\n",
              "It's important to note that AI technology has both benefits and risks associated with it. While it can help us\n",
              "improve our lives in many ways, it can also lead to job displacement and concerns about privacy and security. \n",
              "As AI technology continues to advance and become more integrated into our daily lives, it's essential for us \n",
              "to understand its potential impact and work towards ensuring its responsible and ethical use.\n",
              "\n",
              "I hope this helps! Let me know if you have any other questions.\n",
              "\n",
              "Best regards,\n",
              "<span style=\"font-weight: bold\">[</span>Your Name<span style=\"font-weight: bold\">]</span>\n",
              "</pre>\n"
            ]
          },
          "metadata": {}
        },
        {
          "output_type": "display_data",
          "data": {
            "text/plain": [
              "---\n"
            ],
            "text/html": [
              "<pre style=\"white-space:pre;overflow-x:auto;line-height:normal;font-family:Menlo,'DejaVu Sans Mono',consolas,'Courier New',monospace\">---\n",
              "</pre>\n"
            ]
          },
          "metadata": {}
        },
        {
          "output_type": "display_data",
          "data": {
            "text/plain": [
              "Generated in \u001b[1;92m0:01:18\u001b[0m.\u001b[1;36m849660\u001b[0m\n"
            ],
            "text/html": [
              "<pre style=\"white-space:pre;overflow-x:auto;line-height:normal;font-family:Menlo,'DejaVu Sans Mono',consolas,'Courier New',monospace\">Generated in <span style=\"color: #00ff00; text-decoration-color: #00ff00; font-weight: bold\">0:01:18</span>.<span style=\"color: #008080; text-decoration-color: #008080; font-weight: bold\">849660</span>\n",
              "</pre>\n"
            ]
          },
          "metadata": {}
        }
      ]
    },
    {
      "cell_type": "code",
      "source": [
        "## Summarize a text"
      ],
      "metadata": {
        "id": "T6ZQRiqZOoX7"
      },
      "execution_count": 11,
      "outputs": []
    },
    {
      "cell_type": "code",
      "source": [
        "from rich.prompt import Prompt\n",
        "context = input(\"Text to summarize: \")\n",
        "prompt = f\"\"\"Write a short summary of the given this text extracts:\n",
        "-----\n",
        "{context}\n",
        "-----\n",
        "\n",
        "Summary:\"\"\"\n",
        "messages = [\n",
        "      {\"role\": \"system\", \"content\": \"You are a helpful assistant.\",},\n",
        "      {\"role\": \"user\", \"content\": prompt}\n",
        "  ]\n",
        "start = datetime.datetime.now()\n",
        "result = llm.create_chat_completion(\n",
        "                  messages=messages,\n",
        "                  max_tokens=300,\n",
        "                  stop=[\"</s>\",\"[/INST]\",\"/INST\"],\n",
        "                  temperature = 0.1,\n",
        "                  repeat_penalty = 1.2)\n",
        "delta = datetime.datetime.now() - start\n",
        "console.print(result[\"choices\"][0][\"message\"][\"content\"][1:])\n",
        "console.print('---')\n",
        "console.print(f'Generated in {delta}')"
      ],
      "metadata": {
        "colab": {
          "base_uri": "https://localhost:8080/",
          "height": 298
        },
        "id": "2lhIn6fyOttc",
        "outputId": "b2d2d2a9-549c-482c-c135-acac89f7dfec"
      },
      "execution_count": 19,
      "outputs": [
        {
          "name": "stdout",
          "output_type": "stream",
          "text": [
            "Text to summarize: Machine learning (ML) is a field of study in artificial intelligence concerned with the development and study of statistical algorithms that can learn from data and generalize to unseen data, and thus perform tasks without explicit instructions.[1] Recently, artificial neural networks have been able to surpass many previous approaches in performance.[2][3]  Machine learning approaches have been applied to many fields including natural language processing, computer vision, speech recognition, email filtering, agriculture, and medicine.[4][5] ML is known in its application across business problems under the name predictive analytics. Although not all machine learning is statistically based, computational statistics is an important source of the field's methods.  The mathematical foundations of ML are provided by mathematical optimization (mathematical programming) methods. Data mining is a related (parallel) field of study, focusing on exploratory data analysis (EDA) through unsupervised learning.[7][8]  From a theoretical viewpoint, probably approximately correct (PAC) learning provides a framework for describing machine learning.  History See also: Timeline of machine learning The term machine learning was coined in 1959 by Arthur Samuel, an IBM employee and pioneer in the field of computer gaming and artificial intelligence.[9][10] The synonym self-teaching computers was also used in this time period.[11][12]  Although the earliest machine learning model was introduced in the 1950s when Arthur Samuel invented a program that calculated the winning chance in checkers for each side, the history of machine learning roots back to decades of human desire and effort to study human cognitive processes.[13] In 1949, Canadian psychologist Donald Hebb published the book The Organization of Behavior, in which he introduced a theoretical neural structure formed by certain interactions among nerve cells.[14] Hebb's model of neurons interacting with one another set a groundwork for how AIs and machine learning algorithms work under nodes, or artificial neurons used by computers to communicate data.[13] Other researchers who have studied human cognitive systems contributed to the modern machine learning technologies as well, including logician Walter Pitts and Warren McCulloch, who proposed the early mathematical models of neural networks to come up with algorithms that mirror human thought processes.[13]  By the early 1960s an experimental \"learning machine\" with punched tape memory, called Cybertron, had been developed by Raytheon Company to analyze sonar signals, electrocardiograms, and speech patterns using rudimentary reinforcement learning. It was repetitively \"trained\" by a human operator/teacher to recognize patterns and equipped with a \"goof\" button to cause it to re-evaluate incorrect decisions.[15] A representative book on research into machine learning during the 1960s was Nilsson's book on Learning Machines, dealing mostly with machine learning for pattern classification.[16] Interest related to pattern recognition continued into the 1970s, as described by Duda and Hart in 1973.[17] In 1981 a report was given on using teaching strategies so that an artificial neural network learns to recognize 40 characters (26 letters, 10 digits, and 4 special symbols) from a computer terminal.[18]  Tom M. Mitchell provided a widely quoted, more formal definition of the algorithms studied in the machine learning field: \"A computer program is said to learn from experience E with respect to some class of tasks T and performance measure P if its performance at tasks in T, as measured by P, improves with experience E.\"[19] This definition of the tasks in which machine learning is concerned offers a fundamentally operational definition rather than defining the field in cognitive terms. This follows Alan Turing's proposal in his paper \"Computing Machinery and Intelligence\", in which the question \"Can machines think?\" is replaced with the question \"Can machines do what we (as thinking entities) can do?\".[20]  Modern-day machine learning has two objectives. One is to classify data based on models which have been developed; the other purpose is to make predictions for future outcomes based on these models. A hypothetical algorithm specific to classifying data may use computer vision of moles coupled with supervised learning in order to train it to classify the cancerous moles. A machine learning algorithm for stock trading may inform the trader of future potential predictions.[21]\n"
          ]
        },
        {
          "output_type": "display_data",
          "data": {
            "text/plain": [
              "Machine learning, also known as AI, is an area of research focused on developing mathematical models to teach \n",
              "computers to perform tasks without explicit instructions. It has become increasingly popular due to its \n",
              "ability to surpass previous approaches, particularly in natural language processing, computer vision, speech \n",
              "recognition, email filtering, agriculture, and medicine. The mathematical foundations of machine learning \n",
              "include mathematical optimization methods, such as linear programming, which provide a framework for \n",
              "describing machine learning models. The history of machine learning dates back to \u001b[1;36m1959\u001b[0m when Arthur Samuel \n",
              "coined the term, while early researchers, such as Donald Hebb, Walter Pitts, and Warren McCulloch, contributed\n",
              "to understanding human cognitive processes, which laid the groundwork for machine learning technologies. The \n",
              "1960s saw experimental \u001b[32m\"learning machines\"\u001b[0m like Cybertron, while 1970s research focused on pattern \n",
              "recognition, as described by Duda and Hart. In \u001b[1;36m1981\u001b[0m, Tom Mitchell provided a formal definition for machine \n",
              "learning, which involves improving performance as experience increases, while modern-day machine learning has \n",
              "two objectives - classifying data based on models developed, or making predictions for future outcomes based \n",
              "on these models.\n"
            ],
            "text/html": [
              "<pre style=\"white-space:pre;overflow-x:auto;line-height:normal;font-family:Menlo,'DejaVu Sans Mono',consolas,'Courier New',monospace\">Machine learning, also known as AI, is an area of research focused on developing mathematical models to teach \n",
              "computers to perform tasks without explicit instructions. It has become increasingly popular due to its \n",
              "ability to surpass previous approaches, particularly in natural language processing, computer vision, speech \n",
              "recognition, email filtering, agriculture, and medicine. The mathematical foundations of machine learning \n",
              "include mathematical optimization methods, such as linear programming, which provide a framework for \n",
              "describing machine learning models. The history of machine learning dates back to <span style=\"color: #008080; text-decoration-color: #008080; font-weight: bold\">1959</span> when Arthur Samuel \n",
              "coined the term, while early researchers, such as Donald Hebb, Walter Pitts, and Warren McCulloch, contributed\n",
              "to understanding human cognitive processes, which laid the groundwork for machine learning technologies. The \n",
              "1960s saw experimental <span style=\"color: #008000; text-decoration-color: #008000\">\"learning machines\"</span> like Cybertron, while 1970s research focused on pattern \n",
              "recognition, as described by Duda and Hart. In <span style=\"color: #008080; text-decoration-color: #008080; font-weight: bold\">1981</span>, Tom Mitchell provided a formal definition for machine \n",
              "learning, which involves improving performance as experience increases, while modern-day machine learning has \n",
              "two objectives - classifying data based on models developed, or making predictions for future outcomes based \n",
              "on these models.\n",
              "</pre>\n"
            ]
          },
          "metadata": {}
        },
        {
          "output_type": "display_data",
          "data": {
            "text/plain": [
              "---\n"
            ],
            "text/html": [
              "<pre style=\"white-space:pre;overflow-x:auto;line-height:normal;font-family:Menlo,'DejaVu Sans Mono',consolas,'Courier New',monospace\">---\n",
              "</pre>\n"
            ]
          },
          "metadata": {}
        },
        {
          "output_type": "display_data",
          "data": {
            "text/plain": [
              "Generated in \u001b[1;92m0:04:44\u001b[0m.\u001b[1;36m107901\u001b[0m\n"
            ],
            "text/html": [
              "<pre style=\"white-space:pre;overflow-x:auto;line-height:normal;font-family:Menlo,'DejaVu Sans Mono',consolas,'Courier New',monospace\">Generated in <span style=\"color: #00ff00; text-decoration-color: #00ff00; font-weight: bold\">0:04:44</span>.<span style=\"color: #008080; text-decoration-color: #008080; font-weight: bold\">107901</span>\n",
              "</pre>\n"
            ]
          },
          "metadata": {}
        }
      ]
    },
    {
      "cell_type": "code",
      "source": [
        "context = input(\"Text to get topics: \")\n",
        "prompt = f\"\"\"Given this text extracts:\n",
        "-----\n",
        "{context}\n",
        "-----\n",
        "\n",
        "What are the main topics?\n",
        "write them in markdown list.\"\"\"\n",
        "messages = [\n",
        "      {\"role\": \"system\", \"content\": \"You are a helpful assistant.\",},\n",
        "      {\"role\": \"user\", \"content\": prompt}\n",
        "  ]\n",
        "start = datetime.datetime.now()\n",
        "result = llm.create_chat_completion(\n",
        "                  messages=messages,\n",
        "                  max_tokens=300,\n",
        "                  stop=[\"</s>\",\"[/INST]\",\"/INST\"],\n",
        "                  temperature = 0.1,\n",
        "                  repeat_penalty = 1.2)\n",
        "delta = datetime.datetime.now() - start\n",
        "console.print(result[\"choices\"][0][\"message\"][\"content\"][1:])\n",
        "console.print('---')\n",
        "console.print(f'Generated in {delta}')"
      ],
      "metadata": {
        "colab": {
          "base_uri": "https://localhost:8080/",
          "height": 379
        },
        "id": "4sxrkbetNhPy",
        "outputId": "954e8ee6-f383-4562-e54c-990050efb735"
      },
      "execution_count": 22,
      "outputs": [
        {
          "name": "stdout",
          "output_type": "stream",
          "text": [
            "Text to get topics: Machine learning (ML) is a field of study in artificial intelligence concerned with the development and study of statistical algorithms that can learn from data and generalize to unseen data, and thus perform tasks without explicit instructions.[1] Recently, artificial neural networks have been able to surpass many previous approaches in performance.[2][3]  Machine learning approaches have been applied to many fields including natural language processing, computer vision, speech recognition, email filtering, agriculture, and medicine.[4][5] ML is known in its application across business problems under the name predictive analytics. Although not all machine learning is statistically based, computational statistics is an important source of the field's methods.  The mathematical foundations of ML are provided by mathematical optimization (mathematical programming) methods. Data mining is a related (parallel) field of study, focusing on exploratory data analysis (EDA) through unsupervised learning.[7][8]  From a theoretical viewpoint, probably approximately correct (PAC) learning provides a framework for describing machine learning.  History See also: Timeline of machine learning The term machine learning was coined in 1959 by Arthur Samuel, an IBM employee and pioneer in the field of computer gaming and artificial intelligence.[9][10] The synonym self-teaching computers was also used in this time period.[11][12]  Although the earliest machine learning model was introduced in the 1950s when Arthur Samuel invented a program that calculated the winning chance in checkers for each side, the history of machine learning roots back to decades of human desire and effort to study human cognitive processes.[13] In 1949, Canadian psychologist Donald Hebb published the book The Organization of Behavior, in which he introduced a theoretical neural structure formed by certain interactions among nerve cells.[14] Hebb's model of neurons interacting with one another set a groundwork for how AIs and machine learning algorithms work under nodes, or artificial neurons used by computers to communicate data.[13] Other researchers who have studied human cognitive systems contributed to the modern machine learning technologies as well, including logician Walter Pitts and Warren McCulloch, who proposed the early mathematical models of neural networks to come up with algorithms that mirror human thought processes.[13]  By the early 1960s an experimental \"learning machine\" with punched tape memory, called Cybertron, had been developed by Raytheon Company to analyze sonar signals, electrocardiograms, and speech patterns using rudimentary reinforcement learning. It was repetitively \"trained\" by a human operator/teacher to recognize patterns and equipped with a \"goof\" button to cause it to re-evaluate incorrect decisions.[15] A representative book on research into machine learning during the 1960s was Nilsson's book on Learning Machines, dealing mostly with machine learning for pattern classification.[16] Interest related to pattern recognition continued into the 1970s, as described by Duda and Hart in 1973.[17] In 1981 a report was given on using teaching strategies so that an artificial neural network learns to recognize 40 characters (26 letters, 10 digits, and 4 special symbols) from a computer terminal.[18]  Tom M. Mitchell provided a widely quoted, more formal definition of the algorithms studied in the machine learning field: \"A computer program is said to learn from experience E with respect to some class of tasks T and performance measure P if its performance at tasks in T, as measured by P, improves with experience E.\"[19] This definition of the tasks in which machine learning is concerned offers a fundamentally operational definition rather than defining the field in cognitive terms. This follows Alan Turing's proposal in his paper \"Computing Machinery and Intelligence\", in which the question \"Can machines think?\" is replaced with the question \"Can machines do what we (as thinking entities) can do?\".[20]  Modern-day machine learning has two objectives. One is to classify data based on models which have been developed; the other purpose is to make predictions for future outcomes based on these models. A hypothetical algorithm specific to classifying data may use computer vision of moles coupled with supervised learning in order to train it to classify the cancerous moles. A machine learning algorithm for stock trading may inform the trader of future potential predictions.[21]\n"
          ]
        },
        {
          "output_type": "display_data",
          "data": {
            "text/plain": [
              "The main topics covered in the given text extract include:\n",
              "\u001b[1;36m1\u001b[0m. Machine Learning \u001b[1m(\u001b[0mML\u001b[1m)\u001b[0m: A field of study in AI focused on developing and studying statistical algorithms for\n",
              "learning from data and generalizing to new tasks without explicit instructions.\n",
              "\u001b[1;36m2\u001b[0m. Artificial Neural Networks \u001b[1m(\u001b[0mANN\u001b[1m)\u001b[0m: A type of machine learning algorithm inspired by biological neural \n",
              "networks used for tasks such as natural language processing, computer vision, speech recognition, email \n",
              "filtering, agriculture, and medicine.\n",
              "\u001b[1;36m3\u001b[0m. Timeline of Machine Learning: A brief overview of key milestones in machine learning history, including \n",
              "early developments by Arthur Samuel and Donald Hebb's work on neural networks.\n",
              "\u001b[1;36m4\u001b[0m. History of Machine Learning: A brief overview of how machine learning has evolved over time, including its \n",
              "roots in human desire for understanding human cognitive processes and its connection to early computer gaming \n",
              "and AI research.\n",
              "\u001b[1;36m5\u001b[0m. Machine Learning Foundations: A brief overview of mathematical optimization methods used for machine \n",
              "learning, including PAC \u001b[1m(\u001b[0mProbabilistic Approximation Consistency\u001b[1m)\u001b[0m learning as an important framework for \n",
              "describing machine learning.\n",
              "\u001b[1;36m6\u001b[0m. Early Machine Learning Models: Examples of early machine learning models such as Cybertron's \u001b[32m\"learning \u001b[0m\n",
              "\u001b[32mmachine\"\u001b[0m developed by Raytheon Company for pattern recognition and Duda and Hart's \u001b[1;36m1973\u001b[0m report on using \n",
              "teaching strategies for an artificial neural network's recognition capabilities.\n",
              "\u001b[1;36m7\u001b[0m. Machine\n"
            ],
            "text/html": [
              "<pre style=\"white-space:pre;overflow-x:auto;line-height:normal;font-family:Menlo,'DejaVu Sans Mono',consolas,'Courier New',monospace\">The main topics covered in the given text extract include:\n",
              "<span style=\"color: #008080; text-decoration-color: #008080; font-weight: bold\">1</span>. Machine Learning <span style=\"font-weight: bold\">(</span>ML<span style=\"font-weight: bold\">)</span>: A field of study in AI focused on developing and studying statistical algorithms for\n",
              "learning from data and generalizing to new tasks without explicit instructions.\n",
              "<span style=\"color: #008080; text-decoration-color: #008080; font-weight: bold\">2</span>. Artificial Neural Networks <span style=\"font-weight: bold\">(</span>ANN<span style=\"font-weight: bold\">)</span>: A type of machine learning algorithm inspired by biological neural \n",
              "networks used for tasks such as natural language processing, computer vision, speech recognition, email \n",
              "filtering, agriculture, and medicine.\n",
              "<span style=\"color: #008080; text-decoration-color: #008080; font-weight: bold\">3</span>. Timeline of Machine Learning: A brief overview of key milestones in machine learning history, including \n",
              "early developments by Arthur Samuel and Donald Hebb's work on neural networks.\n",
              "<span style=\"color: #008080; text-decoration-color: #008080; font-weight: bold\">4</span>. History of Machine Learning: A brief overview of how machine learning has evolved over time, including its \n",
              "roots in human desire for understanding human cognitive processes and its connection to early computer gaming \n",
              "and AI research.\n",
              "<span style=\"color: #008080; text-decoration-color: #008080; font-weight: bold\">5</span>. Machine Learning Foundations: A brief overview of mathematical optimization methods used for machine \n",
              "learning, including PAC <span style=\"font-weight: bold\">(</span>Probabilistic Approximation Consistency<span style=\"font-weight: bold\">)</span> learning as an important framework for \n",
              "describing machine learning.\n",
              "<span style=\"color: #008080; text-decoration-color: #008080; font-weight: bold\">6</span>. Early Machine Learning Models: Examples of early machine learning models such as Cybertron's <span style=\"color: #008000; text-decoration-color: #008000\">\"learning </span>\n",
              "<span style=\"color: #008000; text-decoration-color: #008000\">machine\"</span> developed by Raytheon Company for pattern recognition and Duda and Hart's <span style=\"color: #008080; text-decoration-color: #008080; font-weight: bold\">1973</span> report on using \n",
              "teaching strategies for an artificial neural network's recognition capabilities.\n",
              "<span style=\"color: #008080; text-decoration-color: #008080; font-weight: bold\">7</span>. Machine\n",
              "</pre>\n"
            ]
          },
          "metadata": {}
        },
        {
          "output_type": "display_data",
          "data": {
            "text/plain": [
              "---\n"
            ],
            "text/html": [
              "<pre style=\"white-space:pre;overflow-x:auto;line-height:normal;font-family:Menlo,'DejaVu Sans Mono',consolas,'Courier New',monospace\">---\n",
              "</pre>\n"
            ]
          },
          "metadata": {}
        },
        {
          "output_type": "display_data",
          "data": {
            "text/plain": [
              "Generated in \u001b[1;92m0:01:42\u001b[0m.\u001b[1;36m872229\u001b[0m\n"
            ],
            "text/html": [
              "<pre style=\"white-space:pre;overflow-x:auto;line-height:normal;font-family:Menlo,'DejaVu Sans Mono',consolas,'Courier New',monospace\">Generated in <span style=\"color: #00ff00; text-decoration-color: #00ff00; font-weight: bold\">0:01:42</span>.<span style=\"color: #008080; text-decoration-color: #008080; font-weight: bold\">872229</span>\n",
              "</pre>\n"
            ]
          },
          "metadata": {}
        }
      ]
    },
    {
      "cell_type": "code",
      "source": [],
      "metadata": {
        "id": "XYQyYLbFLeUT"
      },
      "execution_count": null,
      "outputs": []
    }
  ]
}